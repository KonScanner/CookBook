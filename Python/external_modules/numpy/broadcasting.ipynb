{
 "metadata": {
  "language_info": {
   "codemirror_mode": {
    "name": "ipython",
    "version": 3
   },
   "file_extension": ".py",
   "mimetype": "text/x-python",
   "name": "python",
   "nbconvert_exporter": "python",
   "pygments_lexer": "ipython3",
   "version": "3.8.2-final"
  },
  "orig_nbformat": 2,
  "kernelspec": {
   "name": "python38264bita59f6b4afd5b4e09917f63a14bea2ffa",
   "display_name": "Python 3.8.2 64-bit"
  }
 },
 "nbformat": 4,
 "nbformat_minor": 2,
 "cells": [
  {
   "source": [
    "# Broadcasting Example:\n",
    "Python does this behind the scenes\n",
    "```\n",
    "(3,4) / (1,4) == (3,4)/(3,4)\n",
    "```"
   ],
   "cell_type": "markdown",
   "metadata": {}
  },
  {
   "cell_type": "code",
   "execution_count": 1,
   "metadata": {
    "tags": []
   },
   "outputs": [
    {
     "output_type": "stream",
     "name": "stdout",
     "text": "[[25  0  4 60]\n [10 50 62  5]\n [ 2 30 20 15]]\n"
    }
   ],
   "source": [
    "import numpy as np\n",
    "\n",
    "M = np.array([\n",
    "    [25,0,4,60],\n",
    "    [10,50,62,5],\n",
    "    [2,30,20,15]\n",
    "])\n",
    "print(M)"
   ]
  },
  {
   "cell_type": "code",
   "execution_count": 2,
   "metadata": {
    "tags": []
   },
   "outputs": [
    {
     "output_type": "stream",
     "name": "stdout",
     "text": "[37 80 86 80]\n[[67.56756757  0.          4.65116279 75.        ]\n [27.02702703 62.5        72.09302326  6.25      ]\n [ 5.40540541 37.5        23.25581395 18.75      ]]\n"
    }
   ],
   "source": [
    "sum_ = M.sum(axis=0)\n",
    "print(sum_)\n",
    "\n",
    "# % Proportion\n",
    "percentage = M/sum_.reshape(1,M.shape[1])*100 # reshape is redundant\n",
    "print(percentage)"
   ]
  },
  {
   "cell_type": "code",
   "execution_count": null,
   "metadata": {},
   "outputs": [],
   "source": []
  }
 ]
}