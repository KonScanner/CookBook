{
 "metadata": {
  "language_info": {
   "codemirror_mode": {
    "name": "ipython",
    "version": 3
   },
   "file_extension": ".py",
   "mimetype": "text/x-python",
   "name": "python",
   "nbconvert_exporter": "python",
   "pygments_lexer": "ipython3",
   "version": "3.8.2-final"
  },
  "orig_nbformat": 2,
  "kernelspec": {
   "name": "python38264bita59f6b4afd5b4e09917f63a14bea2ffa",
   "display_name": "Python 3.8.2 64-bit"
  }
 },
 "nbformat": 4,
 "nbformat_minor": 2,
 "cells": [
  {
   "cell_type": "code",
   "execution_count": 1,
   "metadata": {
    "tags": []
   },
   "outputs": [
    {
     "output_type": "stream",
     "name": "stdout",
     "text": "[-0.79318775 -0.76861039  0.86883843 -0.41206119 -0.87022694]\n"
    }
   ],
   "source": [
    "import numpy as np\n",
    "\n",
    "A = np.random.randn(5)\n",
    "print(A)"
   ]
  },
  {
   "cell_type": "code",
   "execution_count": 2,
   "metadata": {
    "tags": []
   },
   "outputs": [
    {
     "output_type": "stream",
     "name": "stdout",
     "text": "(5,)\n"
    }
   ],
   "source": [
    "print(A.shape)"
   ]
  },
  {
   "cell_type": "code",
   "execution_count": 3,
   "metadata": {
    "tags": []
   },
   "outputs": [
    {
     "output_type": "stream",
     "name": "stdout",
     "text": "[-0.79318775 -0.76861039  0.86883843 -0.41206119 -0.87022694]\n"
    }
   ],
   "source": [
    "print(A.T)"
   ]
  },
  {
   "cell_type": "code",
   "execution_count": 4,
   "metadata": {
    "tags": []
   },
   "outputs": [
    {
     "output_type": "stream",
     "name": "stdout",
     "text": "2.9018782978039424\n"
    }
   ],
   "source": [
    "print(np.dot(A,A.T)) # not what you'd expect"
   ]
  },
  {
   "cell_type": "code",
   "execution_count": 5,
   "metadata": {
    "tags": []
   },
   "outputs": [
    {
     "output_type": "stream",
     "name": "stdout",
     "text": "[[-0.53111121]\n [ 0.5108051 ]\n [ 0.19994316]\n [-0.50987531]\n [-0.19394521]] [[-0.53111121  0.5108051   0.19994316 -0.50987531 -0.19394521]]\n"
    }
   ],
   "source": [
    "# Instead, learn to work this way, making it a column or row vector:\n",
    "A = np.random.randn(5,1) # col vec\n",
    "assert (A.shape == (5,1))\n",
    "assert (A.T.shape == (1,5)) # row vec\n",
    "\n",
    "print(A, A.T)"
   ]
  },
  {
   "cell_type": "code",
   "execution_count": 6,
   "metadata": {
    "tags": []
   },
   "outputs": [
    {
     "output_type": "stream",
     "name": "stdout",
     "text": "[[ 0.28207912 -0.27129432 -0.10619205  0.27080049  0.10300647]\n [-0.27129432  0.26092185  0.10213199 -0.26044691 -0.0990682 ]\n [-0.10619205  0.10213199  0.03997727 -0.10194608 -0.03877802]\n [ 0.27080049 -0.26044691 -0.10194608  0.25997283  0.09888787]\n [ 0.10300647 -0.0990682  -0.03877802  0.09888787  0.03761474]]\n"
    }
   ],
   "source": [
    "print(np.dot(A,A.T))"
   ]
  }
 ]
}