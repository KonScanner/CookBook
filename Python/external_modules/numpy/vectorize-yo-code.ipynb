{
 "metadata": {
  "language_info": {
   "codemirror_mode": {
    "name": "ipython",
    "version": 3
   },
   "file_extension": ".py",
   "mimetype": "text/x-python",
   "name": "python",
   "nbconvert_exporter": "python",
   "pygments_lexer": "ipython3",
   "version": "3.8.2-final"
  },
  "orig_nbformat": 2,
  "kernelspec": {
   "name": "python38264bita59f6b4afd5b4e09917f63a14bea2ffa",
   "display_name": "Python 3.8.2 64-bit"
  }
 },
 "nbformat": 4,
 "nbformat_minor": 2,
 "cells": [
  {
   "source": [
    "# Why vectorization is important, especially for machine learning or simulation tasks"
   ],
   "cell_type": "markdown",
   "metadata": {}
  },
  {
   "cell_type": "code",
   "execution_count": 1,
   "metadata": {},
   "outputs": [],
   "source": [
    "import numpy as np\n",
    "import time as t\n",
    "\n",
    "n = int(1e6)\n",
    "x = np.random.rand(n)\n",
    "y = np.random.rand(n)"
   ]
  },
  {
   "cell_type": "code",
   "execution_count": 2,
   "metadata": {},
   "outputs": [],
   "source": [
    "def timer(function):\n",
    "    def wrapper(*arg, **kw):\n",
    "        tic = t.time()\n",
    "        res = function(*arg, **kw)\n",
    "        toc = t.time()\n",
    "        return (toc-tic), res, function.__name__\n",
    "    return wrapper\n",
    "\n",
    "@timer\n",
    "def vectorized(x,y):\n",
    "    c = np.dot(x,y)\n",
    "    return c\n",
    "    \n",
    "@timer\n",
    "def forLoopVersion(x,y,n):\n",
    "    c = 0\n",
    "    for i in range(n):\n",
    "        c += x[i]*y[i]\n",
    "    \n",
    "    return c"
   ]
  },
  {
   "cell_type": "code",
   "execution_count": 3,
   "metadata": {
    "tags": []
   },
   "outputs": [
    {
     "output_type": "stream",
     "name": "stdout",
     "text": "Function : vectorized, Result : 250194.11545872057, Time : 2.00653076171875 ms\nFunction : forLoopVersion, Result : 250194.1154587142, Time : 534.3058109283447 ms\n"
    }
   ],
   "source": [
    "time,result,func_name =  vectorized(x,y)\n",
    "print(f\"Function : {func_name}, Result : {result}, Time : {time*1e3} ms\")\n",
    "\n",
    "time,result,func_name =  forLoopVersion(x,y,n)\n",
    "print(f\"Function : {func_name}, Result : {result}, Time : {time*1e3} ms\")"
   ]
  }
 ]
}